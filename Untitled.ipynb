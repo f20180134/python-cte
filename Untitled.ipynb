{
 "cells": [
  {
   "cell_type": "code",
   "execution_count": 60,
   "metadata": {},
   "outputs": [],
   "source": [
    "class Animal:\n",
    "    isLiving = True\n",
    "    noHeads = 1\n",
    "    \n",
    "    def __init__(self, nameAnimal, noLegsAnimal=4):\n",
    "        self.noLegs=noLegsAnimal\n",
    "        self.name=nameAnimal\n",
    "        \n",
    "        "
   ]
  },
  {
   "cell_type": "code",
   "execution_count": 70,
   "metadata": {},
   "outputs": [],
   "source": [
    "class Cat(Animal):\n",
    "    def __init__(self, nameCat):\n",
    "        super(Animal,self).__init__(nameCat,noLegsAnimal=4)"
   ]
  },
  {
   "cell_type": "code",
   "execution_count": 71,
   "metadata": {},
   "outputs": [],
   "source": [
    "animal1=Animal(\"Animal1\", noLegsAnimal=2)\n"
   ]
  },
  {
   "cell_type": "code",
   "execution_count": 72,
   "metadata": {},
   "outputs": [],
   "source": [
    "cat1=Cat(\"atisha\")"
   ]
  },
  {
   "cell_type": "markdown",
   "metadata": {},
   "source": [
    "cat1.noLegsAnimal"
   ]
  },
  {
   "cell_type": "code",
   "execution_count": 76,
   "metadata": {},
   "outputs": [
    {
     "data": {
      "text/plain": [
       "'atisha'"
      ]
     },
     "execution_count": 76,
     "metadata": {},
     "output_type": "execute_result"
    }
   ],
   "source": [
    "cat1.name"
   ]
  },
  {
   "cell_type": "code",
   "execution_count": 74,
   "metadata": {},
   "outputs": [
    {
     "data": {
      "text/plain": [
       "6"
      ]
     },
     "execution_count": 74,
     "metadata": {},
     "output_type": "execute_result"
    }
   ],
   "source": [
    "cat1.noLegsAnimal"
   ]
  },
  {
   "cell_type": "code",
   "execution_count": 100,
   "metadata": {},
   "outputs": [],
   "source": [
    "realsum=0\n",
    "imaginarysum=0\n",
    "class ComplexNumber:\n",
    "    def __init__(self,real=0,imaginary=0):\n",
    "        self.real=real\n",
    "        self.imaginary=imaginary\n",
    "    def __add__(number1,number2):\n",
    "        realsum=number1.real+number2.real\n",
    "        imaginarysum=number1.imaginary+number2.imaginary\n",
    "        print(\"sum is {}+i({})\".format(realsum,imaginarysum))\n",
    "    "
   ]
  },
  {
   "cell_type": "code",
   "execution_count": 101,
   "metadata": {},
   "outputs": [],
   "source": [
    "class Number(ComplexNumber):\n",
    "    def __init__(self, realnumber=0):\n",
    "        super(Number,self).__init__(realnumber,imaginary=0)"
   ]
  },
  {
   "cell_type": "code",
   "execution_count": 103,
   "metadata": {},
   "outputs": [
    {
     "name": "stdout",
     "output_type": "stream",
     "text": [
      "sum is 60+i(0)\n"
     ]
    }
   ],
   "source": [
    "Number1=Number(50)\n",
    "Number2=Number(10)\n",
    "Number1+Number2"
   ]
  },
  {
   "cell_type": "code",
   "execution_count": 3,
   "metadata": {},
   "outputs": [],
   "source": [
    "class SchoolMember:\n",
    "    name=''\n",
    "    addess=''\n",
    "    def __init__(self,namemember,addressmember,promotion=True):\n",
    "        self.name=namemember\n",
    "        self.address=addressmember\n",
    "        self.promotion=promotion"
   ]
  },
  {
   "cell_type": "code",
   "execution_count": 11,
   "metadata": {},
   "outputs": [],
   "source": [
    "class student(SchoolMember):\n",
    "    credit=[]\n",
    "    maxnoofcourses=10\n",
    "    averagegrade=5\n",
    "    noofcoures=0\n",
    "    def __init__(self,name,credit,grade):\n",
    "        self.credit=[]\n",
    "        self.course=[]\n",
    "        self.grade=[]\n",
    "        self.noofcourses=0\n",
    "        super(SchoolMember,self).__init__(name,address)\n",
    "    \n",
    "    def isRegistrationSuccessful(self):\n",
    "        pass\n",
    "    \n",
    "    def addcourses(self,course,credit,grade):\n",
    "        if self.noofcourses<self.maxnoofcourses:\n",
    "            self.course.append(course)\n",
    "            self.grade.append(grade)\n",
    "            self.credit.append(credit)\n",
    "            self.noofcourses+=1\n",
    "            return True\n",
    "        else:\n",
    "            print(\"max courses reached\")\n",
    "            return False"
   ]
  },
  {
   "cell_type": "code",
   "execution_count": 7,
   "metadata": {},
   "outputs": [],
   "source": [
    "class Teacher(SchoolMember):\n",
    "    courses=0\n",
    "    averagefeedback=0\n",
    "    def __init__(self,courses,averagefeedback):\n",
    "        self.courses=courses\n",
    "        self.averagefeedback=averagefeedback\n",
    "        super(SchoolMember,self).__init__(name,address,promotion)"
   ]
  },
  {
   "cell_type": "code",
   "execution_count": 9,
   "metadata": {},
   "outputs": [],
   "source": [
    "class FullTimeStudent(student):\n",
    "    a=0"
   ]
  },
  {
   "cell_type": "code",
   "execution_count": 12,
   "metadata": {
    "scrolled": true
   },
   "outputs": [
    {
     "ename": "SyntaxError",
     "evalue": "unexpected EOF while parsing (<ipython-input-12-76e9b86e6697>, line 2)",
     "output_type": "error",
     "traceback": [
      "\u001b[0;36m  File \u001b[0;32m\"<ipython-input-12-76e9b86e6697>\"\u001b[0;36m, line \u001b[0;32m2\u001b[0m\n\u001b[0;31m    \u001b[0m\n\u001b[0m    ^\u001b[0m\n\u001b[0;31mSyntaxError\u001b[0m\u001b[0;31m:\u001b[0m unexpected EOF while parsing\n"
     ]
    }
   ],
   "source": [
    "class PartTimeStudent(student):\n",
    "    "
   ]
  },
  {
   "cell_type": "code",
   "execution_count": null,
   "metadata": {},
   "outputs": [],
   "source": []
  },
  {
   "cell_type": "code",
   "execution_count": null,
   "metadata": {},
   "outputs": [],
   "source": []
  }
 ],
 "metadata": {
  "kernelspec": {
   "display_name": "Python 3",
   "language": "python",
   "name": "python3"
  },
  "language_info": {
   "codemirror_mode": {
    "name": "ipython",
    "version": 3
   },
   "file_extension": ".py",
   "mimetype": "text/x-python",
   "name": "python",
   "nbconvert_exporter": "python",
   "pygments_lexer": "ipython3",
   "version": "3.6.5"
  }
 },
 "nbformat": 4,
 "nbformat_minor": 2
}
