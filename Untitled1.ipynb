{
 "cells": [
  {
   "cell_type": "code",
   "execution_count": 3,
   "metadata": {},
   "outputs": [],
   "source": [
    "import quandl\n",
    "import pandas as pd\n",
    "import numpy as np\n",
    "import matplotlib.pyplot as plt\n",
    "%matplotlib inline"
   ]
  },
  {
   "cell_type": "code",
   "execution_count": 4,
   "metadata": {},
   "outputs": [],
   "source": [
    "quandl.ApiConfig.api_key = \"BWmKnDy8i7JztWxpszVy\""
   ]
  },
  {
   "cell_type": "code",
   "execution_count": 51,
   "metadata": {},
   "outputs": [],
   "source": [
    "from datetime import datetime\n",
    "st=datetime(2017,9,5)\n",
    "et=datetime(2017,9,10)"
   ]
  },
  {
   "cell_type": "code",
   "execution_count": 60,
   "metadata": {},
   "outputs": [],
   "source": [
    "data= quandl.get(\"NSE/RELIANCE\",start_date=st,end_date=et,frequency=\"seconds\")"
   ]
  },
  {
   "cell_type": "code",
   "execution_count": 61,
   "metadata": {},
   "outputs": [
    {
     "data": {
      "text/html": [
       "<div>\n",
       "<style scoped>\n",
       "    .dataframe tbody tr th:only-of-type {\n",
       "        vertical-align: middle;\n",
       "    }\n",
       "\n",
       "    .dataframe tbody tr th {\n",
       "        vertical-align: top;\n",
       "    }\n",
       "\n",
       "    .dataframe thead th {\n",
       "        text-align: right;\n",
       "    }\n",
       "</style>\n",
       "<table border=\"1\" class=\"dataframe\">\n",
       "  <thead>\n",
       "    <tr style=\"text-align: right;\">\n",
       "      <th></th>\n",
       "      <th>Open</th>\n",
       "      <th>High</th>\n",
       "      <th>Low</th>\n",
       "      <th>Last</th>\n",
       "      <th>Close</th>\n",
       "      <th>Total Trade Quantity</th>\n",
       "      <th>Turnover (Lacs)</th>\n",
       "    </tr>\n",
       "    <tr>\n",
       "      <th>Date</th>\n",
       "      <th></th>\n",
       "      <th></th>\n",
       "      <th></th>\n",
       "      <th></th>\n",
       "      <th></th>\n",
       "      <th></th>\n",
       "      <th></th>\n",
       "    </tr>\n",
       "  </thead>\n",
       "  <tbody>\n",
       "    <tr>\n",
       "      <th>2017-09-05</th>\n",
       "      <td>1630.0</td>\n",
       "      <td>1634.85</td>\n",
       "      <td>1621.05</td>\n",
       "      <td>1632.15</td>\n",
       "      <td>1632.6</td>\n",
       "      <td>5764131.0</td>\n",
       "      <td>93958.75</td>\n",
       "    </tr>\n",
       "    <tr>\n",
       "      <th>2017-09-06</th>\n",
       "      <td>1626.4</td>\n",
       "      <td>1652.50</td>\n",
       "      <td>1622.80</td>\n",
       "      <td>1644.00</td>\n",
       "      <td>1645.4</td>\n",
       "      <td>11142512.0</td>\n",
       "      <td>183395.08</td>\n",
       "    </tr>\n",
       "    <tr>\n",
       "      <th>2017-09-07</th>\n",
       "      <td>823.0</td>\n",
       "      <td>832.50</td>\n",
       "      <td>815.00</td>\n",
       "      <td>816.60</td>\n",
       "      <td>818.1</td>\n",
       "      <td>7408536.0</td>\n",
       "      <td>60932.38</td>\n",
       "    </tr>\n",
       "    <tr>\n",
       "      <th>2017-09-08</th>\n",
       "      <td>820.0</td>\n",
       "      <td>823.25</td>\n",
       "      <td>812.10</td>\n",
       "      <td>816.95</td>\n",
       "      <td>816.9</td>\n",
       "      <td>6056729.0</td>\n",
       "      <td>49501.61</td>\n",
       "    </tr>\n",
       "  </tbody>\n",
       "</table>\n",
       "</div>"
      ],
      "text/plain": [
       "              Open     High      Low     Last   Close  Total Trade Quantity  \\\n",
       "Date                                                                          \n",
       "2017-09-05  1630.0  1634.85  1621.05  1632.15  1632.6             5764131.0   \n",
       "2017-09-06  1626.4  1652.50  1622.80  1644.00  1645.4            11142512.0   \n",
       "2017-09-07   823.0   832.50   815.00   816.60   818.1             7408536.0   \n",
       "2017-09-08   820.0   823.25   812.10   816.95   816.9             6056729.0   \n",
       "\n",
       "            Turnover (Lacs)  \n",
       "Date                         \n",
       "2017-09-05         93958.75  \n",
       "2017-09-06        183395.08  \n",
       "2017-09-07         60932.38  \n",
       "2017-09-08         49501.61  "
      ]
     },
     "execution_count": 61,
     "metadata": {},
     "output_type": "execute_result"
    }
   ],
   "source": [
    "data.tail()"
   ]
  },
  {
   "cell_type": "code",
   "execution_count": 62,
   "metadata": {},
   "outputs": [
    {
     "data": {
      "text/plain": [
       "<matplotlib.axes._subplots.AxesSubplot at 0x18f5e8355f8>"
      ]
     },
     "execution_count": 62,
     "metadata": {},
     "output_type": "execute_result"
    },
    {
     "data": {
      "image/png": "[encoded data removed]",
      "text/plain": [
       "<Figure size 1008x576 with 1 Axes>"
      ]
     },
     "metadata": {
      "needs_background": "light"
     },
     "output_type": "display_data"
    }
   ],
   "source": [
    "data[\"Close\"].plot(figsize=(14,8))"
   ]
  },
  {
   "cell_type": "code",
   "execution_count": null,
   "metadata": {},
   "outputs": [],
   "source": []
  }
 ],
 "metadata": {
  "kernelspec": {
   "display_name": "Python 3",
   "language": "python",
   "name": "python3"
  },
  "language_info": {
   "codemirror_mode": {
    "name": "ipython",
    "version": 3
   },
   "file_extension": ".py",
   "mimetype": "text/x-python",
   "name": "python",
   "nbconvert_exporter": "python",
   "pygments_lexer": "ipython3",
   "version": "3.7.0"
  }
 },
 "nbformat": 4,
 "nbformat_minor": 2
}
