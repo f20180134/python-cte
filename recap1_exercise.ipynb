{
 "cells": [
  {
   "cell_type": "markdown",
   "metadata": {},
   "source": [
    "# 1. Super vowels\n",
    "Implement `super_vowels` function which takes a string as an argument and returns a modified version of that string. In the return value of `super_vowels`, all vowels should be in upper case whereas all consonants should be in lower case. The vowels are listed in the `VOWELS` variable."
   ]
  },
  {
   "cell_type": "code",
   "execution_count": null,
   "metadata": {
    "editable": false
   },
   "outputs": [],
   "source": [
    "VOWELS = ['a', 'e', 'i', 'o', 'u']"
   ]
  },
  {
   "cell_type": "code",
   "execution_count": 1,
   "metadata": {},
   "outputs": [],
   "source": [
    "# Your implementation here\n",
    "def super_vowels(s):\n",
    "    d=''\n",
    "    f=s.lower()\n",
    "    e=len(s)\n",
    "    for i in range(e):\n",
    "        if f[i] in 'aeiou':\n",
    "            d+=(f[i].upper())\n",
    "        else:\n",
    "            d+=f[i]\n",
    "    return d"
   ]
  },
  {
   "cell_type": "code",
   "execution_count": 2,
   "metadata": {
    "editable": false
   },
   "outputs": [],
   "source": [
    "assert super_vowels('hi wassup!') == 'hI wAssUp!'\n",
    "assert super_vowels('HOw aRE You?') == 'hOw ArE yOU?'"
   ]
  },
  {
   "cell_type": "markdown",
   "metadata": {},
   "source": [
    "# 2. Playing board\n",
    "Implement `get_playing_board` function which takes an integer as an argument. The function should return a string which resemples a playing board (e.g. a chess board). The board should contain as many rows and columns as requested by the interger argument. See the cell below for examples of desired behavior.\n"
   ]
  },
  {
   "cell_type": "code",
   "execution_count": 9,
   "metadata": {},
   "outputs": [],
   "source": [
    "# Your implementation here\n",
    "def get_playing_board (r):\n",
    "    d=''\n",
    "    \n",
    "    return d\n"
   ]
  },
  {
   "cell_type": "code",
   "execution_count": 4,
   "metadata": {
    "editable": false
   },
   "outputs": [
    {
     "ename": "NameError",
     "evalue": "name 'get_playing_board' is not defined",
     "output_type": "error",
     "traceback": [
      "\u001b[0;31m---------------------------------------------------------------------------\u001b[0m",
      "\u001b[0;31mNameError\u001b[0m                                 Traceback (most recent call last)",
      "\u001b[0;32m<ipython-input-4-e1a7ef4e28a8>\u001b[0m in \u001b[0;36m<module>\u001b[0;34m()\u001b[0m\n\u001b[1;32m     20\u001b[0m )\n\u001b[1;32m     21\u001b[0m \u001b[0;34m\u001b[0m\u001b[0m\n\u001b[0;32m---> 22\u001b[0;31m \u001b[0;32massert\u001b[0m \u001b[0mget_playing_board\u001b[0m\u001b[0;34m(\u001b[0m\u001b[0;36m5\u001b[0m\u001b[0;34m)\u001b[0m \u001b[0;34m==\u001b[0m \u001b[0mboard_of_5\u001b[0m\u001b[0;34m\u001b[0m\u001b[0m\n\u001b[0m\u001b[1;32m     23\u001b[0m \u001b[0;32massert\u001b[0m \u001b[0mget_playing_board\u001b[0m\u001b[0;34m(\u001b[0m\u001b[0;36m10\u001b[0m\u001b[0;34m)\u001b[0m \u001b[0;34m==\u001b[0m \u001b[0mboard_of_10\u001b[0m\u001b[0;34m\u001b[0m\u001b[0m\n\u001b[1;32m     24\u001b[0m \u001b[0;34m\u001b[0m\u001b[0m\n",
      "\u001b[0;31mNameError\u001b[0m: name 'get_playing_board' is not defined"
     ]
    }
   ],
   "source": [
    "board_of_5 = (\n",
    "' * * \\n'\n",
    "'* * *\\n'\n",
    "' * * \\n'\n",
    "'* * *\\n'\n",
    "' * * \\n'\n",
    ")\n",
    "\n",
    "board_of_10 = (\n",
    "' * * * * *\\n'\n",
    "'* * * * * \\n'\n",
    "' * * * * *\\n'\n",
    "'* * * * * \\n'\n",
    "' * * * * *\\n'\n",
    "'* * * * * \\n'\n",
    "' * * * * *\\n'\n",
    "'* * * * * \\n'\n",
    "' * * * * *\\n'\n",
    "'* * * * * \\n'\n",
    ")\n",
    "\n",
    "assert get_playing_board(5) == board_of_5\n",
    "assert get_playing_board(10) == board_of_10\n",
    "\n",
    "print(get_playing_board(50))"
   ]
  },
  {
   "cell_type": "code",
   "execution_count": null,
   "metadata": {},
   "outputs": [],
   "source": []
  }
 ],
 "metadata": {
  "kernelspec": {
   "display_name": "Python 3",
   "language": "python",
   "name": "python3"
  },
  "language_info": {
   "codemirror_mode": {
    "name": "ipython",
    "version": 3
   },
   "file_extension": ".py",
   "mimetype": "text/x-python",
   "name": "python",
   "nbconvert_exporter": "python",
   "pygments_lexer": "ipython3",
   "version": "3.6.5"
  }
 },
 "nbformat": 4,
 "nbformat_minor": 2
}
